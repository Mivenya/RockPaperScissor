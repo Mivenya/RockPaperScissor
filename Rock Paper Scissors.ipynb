{
 "cells": [
  {
   "cell_type": "markdown",
   "id": "60bdfd4d",
   "metadata": {},
   "source": [
    "\n",
    "    Rock smashes scissors.\n",
    "    Paper covers rock.\n",
    "    Scissors cut paper.\n"
   ]
  },
  {
   "cell_type": "code",
   "execution_count": 1,
   "id": "896c5058",
   "metadata": {},
   "outputs": [
    {
     "name": "stdout",
     "output_type": "stream",
     "text": [
      "Enter a choice of rock, paper, or scissors (case sensitive): rock\n",
      "True\n",
      "You chose rock and the computer chose rock. It's a tie!\n",
      "Do you want to play a game? (y/n): y\n",
      "Enter a choice of rock, paper, or scissors (case sensitive): scissors\n",
      "True\n",
      "You chose scissors and the computer chose paper. \n",
      "Scissors cut paper. You win!\n",
      "Do you want to play a game? (y/n): yes\n"
     ]
    },
    {
     "ename": "ValueError",
     "evalue": "Please choose y for Yes or n for No",
     "output_type": "error",
     "traceback": [
      "\u001b[1;31m---------------------------------------------------------------------------\u001b[0m",
      "\u001b[1;31mValueError\u001b[0m                                Traceback (most recent call last)",
      "Cell \u001b[1;32mIn[1], line 51\u001b[0m\n\u001b[0;32m     49\u001b[0m     \u001b[38;5;28;01mbreak\u001b[39;00m\n\u001b[0;32m     50\u001b[0m \u001b[38;5;28;01mif\u001b[39;00m play_more\u001b[38;5;241m.\u001b[39mlower() \u001b[38;5;241m!=\u001b[39m \u001b[38;5;124m\"\u001b[39m\u001b[38;5;124my\u001b[39m\u001b[38;5;124m\"\u001b[39m:\n\u001b[1;32m---> 51\u001b[0m       \u001b[38;5;28;01mraise\u001b[39;00m \u001b[38;5;167;01mValueError\u001b[39;00m(\u001b[38;5;124m\"\u001b[39m\u001b[38;5;124mPlease choose y for Yes or n for No\u001b[39m\u001b[38;5;124m\"\u001b[39m)\n",
      "\u001b[1;31mValueError\u001b[0m: Please choose y for Yes or n for No"
     ]
    }
   ],
   "source": [
    "import random\n",
    "options = ['rock', 'paper', 'scissors'] #my dictionary of choices\n",
    "\n",
    "#add game repeat\n",
    "while True:\n",
    "\n",
    "\n",
    "    #get user input\n",
    "\n",
    "    user_choice = input(\"Enter a choice of rock, paper, or scissors (case sensitive): \")\n",
    "\n",
    "    #check to make sure user choice is valid option before continue\n",
    "    def check():\n",
    "        exists = user_choice in options\n",
    "        print(exists) # Output: True ****REMOVE THIS LINE AFTER TESTING ****\n",
    "\n",
    "        if user_choice not in options:\n",
    "            raise ValueError(\"You must choose rock, paper, or scissors\")\n",
    "\n",
    "    check()\n",
    "\n",
    "    #next let's get the computer's random choice\n",
    "    computer_choice = random.choice(options)\n",
    "\n",
    "    if computer_choice == user_choice:\n",
    "        print(f\"You chose {user_choice} and the computer chose {computer_choice}. It's a tie!\")\n",
    "\n",
    "    elif user_choice == \"rock\":\n",
    "        if computer_choice == \"scissors\":\n",
    "            print(f\"You chose {user_choice} and the computer chose {computer_choice}.\\nRock smashes scissors. You win!\")\n",
    "        else:\n",
    "            print(f\"You chose {user_choice} and the computer chose {computer_choice}. \\nPaper covers rock. You lose\")\n",
    "\n",
    "    elif user_choice == \"paper\":\n",
    "        if computer_choice == \"rock\":\n",
    "            print(f\"You chose{user_choice} and the computer chose {computer_choice}. \\nPaper coves rock. You win!\")\n",
    "        else:\n",
    "            print(f\"You chose {user_choice} and the computer chose {computer_choice}. \\nScissors cut paper. You lose\")\n",
    "\n",
    "    elif user_choice == \"scissors\":\n",
    "        if computer_choice == \"paper\":\n",
    "            print(f\"You chose {user_choice} and the computer chose {computer_choice}. \\nScissors cut paper. You win!\")\n",
    "        else:\n",
    "            print(f\"You chose {user_choice} and the computer chose {computer_choice}. \\nRock smashes scissors. You lose\")\n",
    "        \n",
    "    play_more = input(\"Do you want to play a game? (y/n): \")\n",
    "    if play_more.lower() != \"y\":\n",
    "        if play_more == \"n\":\n",
    "            break\n",
    "        if play_more.lower() != \"y\":\n",
    "              raise ValueError(\"Please choose y for Yes or n for No\")  \n",
    "    "
   ]
  },
  {
   "cell_type": "code",
   "execution_count": null,
   "id": "9fd204d3",
   "metadata": {},
   "outputs": [],
   "source": []
  }
 ],
 "metadata": {
  "kernelspec": {
   "display_name": "Python 3 (ipykernel)",
   "language": "python",
   "name": "python3"
  },
  "language_info": {
   "codemirror_mode": {
    "name": "ipython",
    "version": 3
   },
   "file_extension": ".py",
   "mimetype": "text/x-python",
   "name": "python",
   "nbconvert_exporter": "python",
   "pygments_lexer": "ipython3",
   "version": "3.11.5"
  }
 },
 "nbformat": 4,
 "nbformat_minor": 5
}
