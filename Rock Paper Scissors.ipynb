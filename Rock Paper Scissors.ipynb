{
 "cells": [
  {
   "cell_type": "markdown",
   "id": "888a78e9",
   "metadata": {},
   "source": [
    "\n",
    "    Rock smashes scissors.\n",
    "    Paper covers rock.\n",
    "    Scissors cut paper.\n"
   ]
  },
  {
   "cell_type": "code",
   "execution_count": 1,
   "id": "06d4a33f",
   "metadata": {},
   "outputs": [
    {
     "name": "stdout",
     "output_type": "stream",
     "text": [
      "Enter a choice of rock, paper, or scissors (case sensitive): scissors\n",
      "True\n",
      "You chose scissors and the computer chose rock. \n",
      "Rock smashes scissors. You lose\n"
     ]
    }
   ],
   "source": [
    "import random\n",
    "options = ['rock', 'paper', 'scissors'] #my dictionary of choices\n",
    "\n",
    "#get user input\n",
    "\n",
    "user_choice = input(\"Enter a choice of rock, paper, or scissors (case sensitive): \")\n",
    "\n",
    "#check to make sure user choice is valid option before continue\n",
    "def check():\n",
    "    exists = user_choice in options\n",
    "    print(exists) # Output: True ****REMOVE THIS LINE AFTER TESTING ****\n",
    "\n",
    "    if user_choice not in options:\n",
    "        raise ValueError(\"You must choose rock, paper, or scissors\")\n",
    "      \n",
    "check()\n",
    "\n",
    "#next let's get the computer's random choice\n",
    "computer_choice = random.choice(options)\n",
    "\n",
    "if computer_choice == user_choice:\n",
    "    print(f\"You chose {user_choice} and the computer chose {computer_choice}. It's a tie!\")\n",
    "        \n",
    "elif user_choice == \"rock\":\n",
    "    if computer_choice == \"scissors\":\n",
    "        print(f\"You chose {user_choice} and the computer chose {computer_choice}.\\nRock smashes scissors. You win!\")\n",
    "    else:\n",
    "        print(f\"You chose {user_choice} and the computer chose {computer_choice}. \\nPaper covers rock. You lose\")\n",
    "    \n",
    "elif user_choice == \"paper\":\n",
    "    if computer_choice == \"rock\":\n",
    "        print(f\"You chose{user_choice} and the computer chose {computer_choice}. \\nPaper coves rock. You win!\")\n",
    "    else:\n",
    "        print(f\"You chose {user_choice} and the computer chose {computer_choice}. \\nScissors cut paper. You lose\")\n",
    "    \n",
    "elif user_choice == \"scissors\":\n",
    "    if computer_choice == \"paper\":\n",
    "        print(f\"You chose {user_choice} and the computer chose {computer_choice}. \\nScissors cut paper. You win!\")\n",
    "    else:\n",
    "        print(f\"You chose {user_choice} and the computer chose {computer_choice}. \\nRock smashes scissors. You lose\")"
   ]
  },
  {
   "cell_type": "code",
   "execution_count": null,
   "id": "496f8ed8",
   "metadata": {},
   "outputs": [],
   "source": [
    "\n"
   ]
  },
  {
   "cell_type": "code",
   "execution_count": null,
   "id": "4ea60520",
   "metadata": {},
   "outputs": [],
   "source": []
  },
  {
   "cell_type": "code",
   "execution_count": null,
   "id": "db2474e5",
   "metadata": {},
   "outputs": [],
   "source": []
  }
 ],
 "metadata": {
  "kernelspec": {
   "display_name": "Python 3 (ipykernel)",
   "language": "python",
   "name": "python3"
  },
  "language_info": {
   "codemirror_mode": {
    "name": "ipython",
    "version": 3
   },
   "file_extension": ".py",
   "mimetype": "text/x-python",
   "name": "python",
   "nbconvert_exporter": "python",
   "pygments_lexer": "ipython3",
   "version": "3.11.5"
  }
 },
 "nbformat": 4,
 "nbformat_minor": 5
}
